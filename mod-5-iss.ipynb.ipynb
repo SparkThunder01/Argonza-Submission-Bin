{
 "cells": [
  {
   "cell_type": "code",
   "execution_count": 2,
   "id": "32443c11",
   "metadata": {},
   "outputs": [],
   "source": [
    "import matplotlib.pyplot as plt\n",
    "import json\n",
    "import time\n",
    "import requests\n",
    "import pandas as pd"
   ]
  },
  {
   "cell_type": "code",
   "execution_count": 3,
   "id": "713009d9",
   "metadata": {},
   "outputs": [
    {
     "name": "stdout",
     "output_type": "stream",
     "text": [
      "     Timestamp  Latitude Longitude\n",
      "0   1658664514  -41.9842  -18.0593\n",
      "1   1658664525  -41.6084  -17.3455\n",
      "2   1658664535  -41.2277  -16.6406\n",
      "3   1658664546  -40.8422  -15.9444\n",
      "4   1658664556  -40.4518  -15.2566\n",
      "..         ...       ...       ...\n",
      "95  1658665521    5.0879   27.1742\n",
      "96  1658665532    5.6200   27.5560\n",
      "97  1658665542    6.1519   27.9385\n",
      "98  1658665553    6.6834   28.3220\n",
      "99  1658665563    7.2147   28.7065\n",
      "\n",
      "[100 rows x 3 columns]\n"
     ]
    }
   ],
   "source": [
    "iss_data = []\n",
    "i = 0\n",
    "\n",
    "for i in range(100):\n",
    "    info = requests.get(\"http://api.open-notify.org/iss-now.json\")\n",
    "    data = info.text\n",
    "    datapoint = json.loads(data)\n",
    "    iss_data.append((datapoint['timestamp'], datapoint['iss_position']['latitude'], datapoint['iss_position']['longitude']))\n",
    "    time.sleep(10)\n",
    "\n",
    "tracked_pings = pd.DataFrame(iss_data, columns = ['Timestamp', 'Latitude', 'Longitude'])\n",
    "print(tracked_pings)"
   ]
  },
  {
   "cell_type": "code",
   "execution_count": 7,
   "id": "96e91ec9",
   "metadata": {},
   "outputs": [
    {
     "data": {
      "text/plain": [
       "<function matplotlib.pyplot.show(close=None, block=None)>"
      ]
     },
     "execution_count": 7,
     "metadata": {},
     "output_type": "execute_result"
    },
    {
     "data": {
      "image/png": "[encoded data removed]",
      "text/plain": [
       "<Figure size 432x288 with 1 Axes>"
      ]
     },
     "metadata": {
      "needs_background": "light"
     },
     "output_type": "display_data"
    }
   ],
   "source": [
    "%matplotlib inline\n",
    "\n",
    "tracked_pings.to_csv('iss_tracked.csv')\n",
    "tracked_pings = pd.read_csv('iss_tracked.csv')\n",
    "plt.plot(tracked_pings.Latitude, tracked_pings.Longitude, '#ffade6')\n",
    "plt.xlabel('Latitude')\n",
    "plt.ylabel('Longitude')\n",
    "plt.title('Tracked Path of International Space Station')\n",
    "plt.show\n"
   ]
  }
 ],
 "metadata": {
  "kernelspec": {
   "display_name": "Python 3 (ipykernel)",
   "language": "python",
   "name": "python3"
  },
  "language_info": {
   "codemirror_mode": {
    "name": "ipython",
    "version": 3
   },
   "file_extension": ".py",
   "mimetype": "text/x-python",
   "name": "python",
   "nbconvert_exporter": "python",
   "pygments_lexer": "ipython3",
   "version": "3.9.12"
  }
 },
 "nbformat": 4,
 "nbformat_minor": 5
}
